{
 "cells": [
  {
   "cell_type": "code",
   "execution_count": 1,
   "id": "d26a3697-1eb2-4c1e-b588-ad22cfea3f93",
   "metadata": {},
   "outputs": [
    {
     "name": "stdout",
     "output_type": "stream",
     "text": [
      "C:\\Anaconda3\\envs\\audio_env\\python.exe\n"
     ]
    }
   ],
   "source": [
    "import sys\n",
    "print(sys.executable)"
   ]
  },
  {
   "cell_type": "code",
   "execution_count": 2,
   "id": "1e2af400-0413-4f30-9acf-cf6da63e8e30",
   "metadata": {},
   "outputs": [],
   "source": [
    "from pydub import AudioSegment"
   ]
  },
  {
   "cell_type": "code",
   "execution_count": 3,
   "id": "45fa5bb5-88c5-4674-8be8-a2fd76a9ba4b",
   "metadata": {},
   "outputs": [],
   "source": [
    "# Load the video file as an audio file using pydub\n",
    "input_video = 'sample_video.mp4'\n",
    "output_audio = 'output_audio.mp3'"
   ]
  },
  {
   "cell_type": "code",
   "execution_count": 4,
   "id": "93a1e6c7-6e38-4b93-baf9-504761ae8a97",
   "metadata": {},
   "outputs": [],
   "source": [
    "# Convert video to audio (using FFmpeg internally)\n",
    "audio = AudioSegment.from_file(input_video, format=\"mp4\")"
   ]
  },
  {
   "cell_type": "code",
   "execution_count": 5,
   "id": "c56bfb00-34f9-4a84-952d-40e1ff167329",
   "metadata": {},
   "outputs": [
    {
     "data": {
      "text/plain": [
       "<_io.BufferedRandom name='output_audio.mp3'>"
      ]
     },
     "execution_count": 5,
     "metadata": {},
     "output_type": "execute_result"
    }
   ],
   "source": [
    "# Export audio to desired MP3 format\n",
    "audio.export(output_audio, format=\"mp3\")"
   ]
  },
  {
   "cell_type": "code",
   "execution_count": 6,
   "id": "5cc0b547-286a-4069-b53d-a7fddb8bab98",
   "metadata": {},
   "outputs": [
    {
     "name": "stdout",
     "output_type": "stream",
     "text": [
      "Audio has been saved to output_audio.mp3\n"
     ]
    }
   ],
   "source": [
    "print(f\"Audio has been saved to {output_audio}\")"
   ]
  },
  {
   "cell_type": "code",
   "execution_count": null,
   "id": "dc233462-df5d-4346-9b49-3a6addd3ac66",
   "metadata": {},
   "outputs": [],
   "source": []
  }
 ],
 "metadata": {
  "kernelspec": {
   "display_name": "Python (audio_env)",
   "language": "python",
   "name": "audio_env"
  },
  "language_info": {
   "codemirror_mode": {
    "name": "ipython",
    "version": 3
   },
   "file_extension": ".py",
   "mimetype": "text/x-python",
   "name": "python",
   "nbconvert_exporter": "python",
   "pygments_lexer": "ipython3",
   "version": "3.9.21"
  }
 },
 "nbformat": 4,
 "nbformat_minor": 5
}
