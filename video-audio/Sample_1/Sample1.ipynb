{
 "cells": [
  {
   "cell_type": "code",
   "execution_count": 1,
   "id": "d22c4f2e-bc63-4c61-b05e-4367db13f81d",
   "metadata": {},
   "outputs": [],
   "source": [
    "from moviepy import VideoFileClip"
   ]
  },
  {
   "cell_type": "code",
   "execution_count": 2,
   "id": "e128df75-5f8f-431d-b1b5-69db07f1aadd",
   "metadata": {},
   "outputs": [],
   "source": [
    "# Load the video file\n",
    "video = VideoFileClip(\"sample_video.mp4\")"
   ]
  },
  {
   "cell_type": "code",
   "execution_count": 3,
   "id": "78d9bc5f-b65c-4bbb-ba0a-b11478935ddd",
   "metadata": {},
   "outputs": [
    {
     "name": "stdout",
     "output_type": "stream",
     "text": [
      "MoviePy - Writing audio in output_audio.mp3\n"
     ]
    },
    {
     "name": "stderr",
     "output_type": "stream",
     "text": [
      "                                                                                                                       "
     ]
    },
    {
     "name": "stdout",
     "output_type": "stream",
     "text": [
      "MoviePy - Done.\n"
     ]
    },
    {
     "name": "stderr",
     "output_type": "stream",
     "text": [
      "\r"
     ]
    }
   ],
   "source": [
    "# Extract the audio and save it as an audio file\n",
    "audio_path = \"output_audio.mp3\"\n",
    "video.audio.write_audiofile(audio_path)"
   ]
  },
  {
   "cell_type": "code",
   "execution_count": 4,
   "id": "7a0d30ca-7b37-480b-875e-92fb439c864e",
   "metadata": {},
   "outputs": [
    {
     "name": "stdout",
     "output_type": "stream",
     "text": [
      "Audio has been saved to output_audio.mp3\n"
     ]
    }
   ],
   "source": [
    "print(f\"Audio has been saved to {audio_path}\")"
   ]
  },
  {
   "cell_type": "code",
   "execution_count": null,
   "id": "5c0a68e7-51ea-4487-883a-c77f0912756d",
   "metadata": {},
   "outputs": [],
   "source": []
  }
 ],
 "metadata": {
  "kernelspec": {
   "display_name": "Python 3 (ipykernel)",
   "language": "python",
   "name": "python3"
  },
  "language_info": {
   "codemirror_mode": {
    "name": "ipython",
    "version": 3
   },
   "file_extension": ".py",
   "mimetype": "text/x-python",
   "name": "python",
   "nbconvert_exporter": "python",
   "pygments_lexer": "ipython3",
   "version": "3.12.4"
  }
 },
 "nbformat": 4,
 "nbformat_minor": 5
}
