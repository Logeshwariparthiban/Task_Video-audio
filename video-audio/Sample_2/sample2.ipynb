{
 "cells": [
  {
   "cell_type": "code",
   "execution_count": 1,
   "id": "0d5d4a94-ffb1-4c01-92b2-dfc1dd3541cc",
   "metadata": {},
   "outputs": [],
   "source": [
    "import subprocess"
   ]
  },
  {
   "cell_type": "code",
   "execution_count": 2,
   "id": "e6a45425-de14-4e4e-99f3-0c8dab574083",
   "metadata": {},
   "outputs": [],
   "source": [
    "input_video = 'sample_video.mp4'\n",
    "output_audio = 'output_audio.mp3'"
   ]
  },
  {
   "cell_type": "code",
   "execution_count": 3,
   "id": "7fcfacff-7a83-49b2-8d25-4114137138c3",
   "metadata": {},
   "outputs": [
    {
     "data": {
      "text/plain": [
       "CompletedProcess(args=['ffmpeg', '-i', 'sample_video.mp4', 'output_audio.mp3'], returncode=0)"
      ]
     },
     "execution_count": 3,
     "metadata": {},
     "output_type": "execute_result"
    }
   ],
   "source": [
    "# Using subprocess to call ffmpeg directly\n",
    "subprocess.run(['ffmpeg', '-i', input_video, output_audio])"
   ]
  },
  {
   "cell_type": "code",
   "execution_count": 4,
   "id": "d9c18a47-745a-450e-99e0-ebe8cb259eef",
   "metadata": {},
   "outputs": [
    {
     "name": "stdout",
     "output_type": "stream",
     "text": [
      "Audio has been saved to output_audio.mp3\n"
     ]
    }
   ],
   "source": [
    "print(f\"Audio has been saved to {output_audio}\")"
   ]
  },
  {
   "cell_type": "code",
   "execution_count": null,
   "id": "6b0f72c3-f7a2-43f8-bd0a-42866077a38d",
   "metadata": {},
   "outputs": [],
   "source": []
  }
 ],
 "metadata": {
  "kernelspec": {
   "display_name": "Python 3 (ipykernel)",
   "language": "python",
   "name": "python3"
  },
  "language_info": {
   "codemirror_mode": {
    "name": "ipython",
    "version": 3
   },
   "file_extension": ".py",
   "mimetype": "text/x-python",
   "name": "python",
   "nbconvert_exporter": "python",
   "pygments_lexer": "ipython3",
   "version": "3.12.4"
  }
 },
 "nbformat": 4,
 "nbformat_minor": 5
}
